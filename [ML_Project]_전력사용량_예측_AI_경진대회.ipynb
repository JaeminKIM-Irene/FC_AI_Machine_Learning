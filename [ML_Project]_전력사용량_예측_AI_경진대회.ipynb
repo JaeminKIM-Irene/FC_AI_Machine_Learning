{
  "cells": [
    {
      "cell_type": "markdown",
      "metadata": {
        "id": "view-in-github",
        "colab_type": "text"
      },
      "source": [
        "<a href=\"https://colab.research.google.com/github/JaeminKIM-Irene/FC_AI_Machine_Learning/blob/main/%5BML_Project%5D_%EC%A0%84%EB%A0%A5%EC%82%AC%EC%9A%A9%EB%9F%89_%EC%98%88%EC%B8%A1_AI_%EA%B2%BD%EC%A7%84%EB%8C%80%ED%9A%8C.ipynb\" target=\"_parent\"><img src=\"https://colab.research.google.com/assets/colab-badge.svg\" alt=\"Open In Colab\"/></a>"
      ]
    },
    {
      "cell_type": "markdown",
      "id": "8f3119aa",
      "metadata": {
        "id": "8f3119aa"
      },
      "source": [
        "## Machine Learning 프로젝트 수행을 위한 코드 구조화"
      ]
    },
    {
      "cell_type": "markdown",
      "id": "9f7610ea",
      "metadata": {
        "id": "9f7610ea"
      },
      "source": [
        "- ML project를 위해서 사용하는 템플릿 코드를 만듭니다.\n",
        "\n",
        "1. **필요한 라이브러리와 데이터를 불러옵니다.**\n",
        "\n",
        "\n",
        "2. **EDA를 수행합니다.** 이 때 EDA의 목적은 풀어야하는 문제를 위해서 수행됩니다.\n",
        "\n",
        "\n",
        "3. **전처리를 수행합니다.** 이 때 중요한건 **feature engineering**을 어떻게 하느냐 입니다.\n",
        "\n",
        "\n",
        "4. **데이터 분할을 합니다.** 이 때 train data와 test data 간의 분포 차이가 없는지 확인합니다.\n",
        "\n",
        "\n",
        "5. **학습을 진행합니다.** 어떤 모델을 사용하여 학습할지 정합니다. 성능이 잘 나오는 GBM을 추천합니다.\n",
        "\n",
        "\n",
        "6. **hyper-parameter tuning을 수행합니다.** 원하는 목표 성능이 나올 때 까지 진행합니다. 검증 단계를 통해 지속적으로 **overfitting이 되지 않게 주의**하세요.\n",
        "\n",
        "\n",
        "7. **최종 테스트를 진행합니다.** 데이터 분석 대회 포맷에 맞는 submission 파일을 만들어서 성능을 확인해보세요."
      ]
    },
    {
      "cell_type": "markdown",
      "id": "bd2f7530",
      "metadata": {
        "id": "bd2f7530"
      },
      "source": [
        "## 1. 라이브러리, 데이터 불러오기\n",
        "\n",
        "\n",
        "데이터 : https://dacon.io/competitions/official/235736/overview/description"
      ]
    },
    {
      "cell_type": "code",
      "execution_count": null,
      "id": "48ff1318",
      "metadata": {
        "scrolled": false,
        "id": "48ff1318"
      },
      "outputs": [],
      "source": [
        "# 설치에 필요한 라이브러리들이 있다면 모두 적어둡니다. anaconda에 기본적으로 설치되지 않은 라이브러리들을 적어두세요.\n",
        "!pip install lightgbm optuna"
      ]
    },
    {
      "cell_type": "code",
      "source": [
        "from google.colab import drive\n",
        "drive.mount('/content/drive')"
      ],
      "metadata": {
        "id": "biOYbwajC5HJ"
      },
      "id": "biOYbwajC5HJ",
      "execution_count": null,
      "outputs": []
    },
    {
      "cell_type": "code",
      "execution_count": null,
      "id": "125fc348",
      "metadata": {
        "id": "125fc348"
      },
      "outputs": [],
      "source": [
        "# 데이터분석 4종 세트\n",
        "import numpy as np\n",
        "import pandas as pd\n",
        "import matplotlib.pyplot as plt\n",
        "import seaborn as sns\n",
        "\n",
        "# 모델들, 성능 평가\n",
        "# (저는 일반적으로 정형데이터로 머신러닝 분석할 때는 이 2개 모델은 그냥 돌려봅니다. 특히 RF가 테스트하기 좋습니다.)\n",
        "from sklearn.ensemble import RandomForestClassifier, RandomForestRegressor\n",
        "from sklearn.metrics import mean_absolute_error\n",
        "\n",
        "# KFold(CV), partial : optuna를 사용하기 위함\n",
        "from sklearn.model_selection import KFold\n",
        "from functools import partial\n",
        "\n",
        "# hyper-parameter tuning을 위한 라이브러리, optuna\n",
        "import optuna"
      ]
    },
    {
      "cell_type": "code",
      "execution_count": null,
      "id": "0e4d49ce",
      "metadata": {
        "id": "0e4d49ce"
      },
      "outputs": [],
      "source": [
        "# flag setting\n",
        "feature_reducing = False\n",
        "# metric은 그때마다 맞게 바꿔줘야 합니다.\n",
        "evaluation_metric ="
      ]
    },
    {
      "cell_type": "code",
      "execution_count": null,
      "id": "3615c24a",
      "metadata": {
        "id": "3615c24a"
      },
      "outputs": [],
      "source": [
        "# 데이터를 불러옵니다.\n",
        "base_path =\n",
        "train =\n",
        "test ="
      ]
    },
    {
      "cell_type": "markdown",
      "id": "c9c9acb8",
      "metadata": {
        "id": "c9c9acb8"
      },
      "source": [
        "## 2. EDA"
      ]
    },
    {
      "cell_type": "markdown",
      "id": "6fdf620b",
      "metadata": {
        "id": "6fdf620b"
      },
      "source": [
        "- 데이터에서 찾아야 하는 기초적인 내용들을 확인합니다.\n",
        "\n",
        "\n",
        "- class imbalance, target distribution, outlier, correlation을 확인합니다."
      ]
    },
    {
      "cell_type": "code",
      "execution_count": null,
      "id": "adb06474",
      "metadata": {
        "id": "adb06474"
      },
      "outputs": [],
      "source": [
        "## On your Own\n",
        "# 1. 결측치 확인 (v)\n",
        "# 2. dtype이 object인 column --> categorical feature (v)\n",
        "# 3. target value distribution\n"
      ]
    },
    {
      "cell_type": "markdown",
      "id": "f2c602bd",
      "metadata": {
        "id": "f2c602bd"
      },
      "source": [
        "이런 식으로 여러가지 그래프를 그려가며, 데이터에 대한 인사이트를 얻습니다!"
      ]
    },
    {
      "cell_type": "markdown",
      "id": "9dbb8802",
      "metadata": {
        "id": "9dbb8802"
      },
      "source": [
        "### 3. 전처리"
      ]
    },
    {
      "cell_type": "markdown",
      "id": "b79a6f0a",
      "metadata": {
        "id": "b79a6f0a"
      },
      "source": [
        "#### 결측치 처리"
      ]
    },
    {
      "cell_type": "code",
      "source": [
        "train.columns = ['num', 'date_time', 'target', 'temperature', 'windspeed', 'humidity',\n",
        "                 'precipitation', 'insolation', 'is_cool', 'is_solar']\n",
        "train"
      ],
      "metadata": {
        "id": "0lKR7P6nP7mr"
      },
      "id": "0lKR7P6nP7mr",
      "execution_count": null,
      "outputs": []
    },
    {
      "cell_type": "markdown",
      "id": "606493f0",
      "metadata": {
        "id": "606493f0"
      },
      "source": [
        "#### feature engineering\n",
        "\n",
        "- 파생 변수를 생성!\n",
        "\n",
        "\n",
        "- Categorical Feature Encoding\n",
        "\n",
        "\n",
        "- Time feature [& Lag feature(이전 시간대의 target value)]\n",
        "\n",
        "> year, **month**, **day**, weekday/weekend, **hour**, minute, second"
      ]
    },
    {
      "cell_type": "code",
      "execution_count": null,
      "id": "4a137c94",
      "metadata": {
        "id": "4a137c94"
      },
      "outputs": [],
      "source": []
    },
    {
      "cell_type": "markdown",
      "id": "f497a2d8",
      "metadata": {
        "id": "f497a2d8"
      },
      "source": [
        "### 4. 학습 데이터 분할"
      ]
    },
    {
      "cell_type": "code",
      "execution_count": null,
      "id": "47306aaf",
      "metadata": {
        "id": "47306aaf"
      },
      "outputs": [],
      "source": [
        "# 첫번째 테스트용으로 사용하고, 실제 학습시에는 K-Fold CV를 사용합니다.\n",
        "from sklearn.model_selection import train_test_split\n",
        "\n",
        "print(X_train.shape, y_train.shape, X_val.shape, y_val.shape)"
      ]
    },
    {
      "cell_type": "markdown",
      "id": "58056e51",
      "metadata": {
        "id": "58056e51"
      },
      "source": [
        "### 5. 학습 및 평가"
      ]
    },
    {
      "cell_type": "code",
      "execution_count": null,
      "id": "39fd2515",
      "metadata": {
        "id": "39fd2515"
      },
      "outputs": [],
      "source": [
        "# Random Forest"
      ]
    },
    {
      "cell_type": "code",
      "execution_count": null,
      "id": "ddffa474",
      "metadata": {
        "scrolled": true,
        "id": "ddffa474"
      },
      "outputs": [],
      "source": [
        "print(\"\\nFitting RandomForest...\")\n",
        "model.fit(X_train, y_train)"
      ]
    },
    {
      "cell_type": "code",
      "execution_count": null,
      "id": "a6b39be5",
      "metadata": {
        "id": "a6b39be5"
      },
      "outputs": [],
      "source": [
        "print(\"Prediction\")\n",
        "pred_train = model.predict(X_train)\n",
        "pred_val = model.predict(X_val)\n",
        "\n",
        "train_score = evaluation_metric(y_train, pred_train)\n",
        "val_score = evaluation_metric(y_val, pred_val)\n",
        "\n",
        "print(\"Train Score : %.4f\" % train_score)\n",
        "print(\"Validation Score : %.4f\" % val_score)"
      ]
    },
    {
      "cell_type": "markdown",
      "id": "bc755b17",
      "metadata": {
        "id": "bc755b17"
      },
      "source": [
        "### 6. Hyper-parameter Tuning"
      ]
    },
    {
      "cell_type": "markdown",
      "id": "60070d0e",
      "metadata": {
        "id": "60070d0e"
      },
      "source": [
        "> GridSearchCV\n",
        "\n",
        "- 주어진 hyper-parameter의 모든 조합을 테스트하는 모델."
      ]
    },
    {
      "cell_type": "code",
      "execution_count": null,
      "id": "815dcbef",
      "metadata": {
        "scrolled": true,
        "id": "815dcbef"
      },
      "outputs": [],
      "source": [
        "# GridSearchCV를 이용하여 가장 좋은 성능을 가지는 모델을 찾아봅시다.\n",
        "\n",
        "param_grid = {\n",
        "\n",
        "}\n",
        "\n",
        "scorer =\n",
        "gcv =\n",
        "\n",
        "gcv.fit(X_train, y_train)\n",
        "print(\"Best Estimator : \", gcv.best_estimator_) # best trained model\n",
        "print(\"Best Score : \", -gcv.best_score_)"
      ]
    },
    {
      "cell_type": "code",
      "source": [
        "# feature importances\n",
        "best_model = gcv.best_estimator_\n",
        "y_ = best_model.feature_importances_\n",
        "x_ = X.columns\n",
        "plt.figure(figsize=(12, 6))\n",
        "plt.xticks(rotation=45)\n",
        "sns.barplot(x=x_, y=y_)\n",
        "plt.show()"
      ],
      "metadata": {
        "id": "_WEXksyIRBWa"
      },
      "id": "_WEXksyIRBWa",
      "execution_count": null,
      "outputs": []
    },
    {
      "cell_type": "markdown",
      "id": "24b360ec",
      "metadata": {
        "id": "24b360ec"
      },
      "source": [
        "### 7. 테스트 및 제출 파일 생성"
      ]
    },
    {
      "cell_type": "code",
      "execution_count": null,
      "id": "b6787765",
      "metadata": {
        "id": "b6787765"
      },
      "outputs": [],
      "source": [
        "## X_test 만들기\n",
        "X_test =\n"
      ]
    },
    {
      "cell_type": "code",
      "execution_count": null,
      "id": "a0daf54e",
      "metadata": {
        "id": "a0daf54e"
      },
      "outputs": [],
      "source": [
        "best_params =\n",
        "\n",
        "best_model = RandomForestRegressor(**best_params)\n",
        "\n",
        "best_model.fit(X_train, y_train)\n",
        "preds = best_model.predict(X_test)\n",
        "preds"
      ]
    },
    {
      "cell_type": "code",
      "execution_count": null,
      "id": "8ff2070c",
      "metadata": {
        "id": "8ff2070c"
      },
      "outputs": [],
      "source": [
        "submission =\n",
        "submission"
      ]
    },
    {
      "cell_type": "code",
      "execution_count": null,
      "id": "55a2c13f",
      "metadata": {
        "id": "55a2c13f"
      },
      "outputs": [],
      "source": [
        "submission.to_csv(\"submission.csv\", index=False)"
      ]
    }
  ],
  "metadata": {
    "kernelspec": {
      "display_name": "Python 3 (ipykernel)",
      "language": "python",
      "name": "python3"
    },
    "language_info": {
      "codemirror_mode": {
        "name": "ipython",
        "version": 3
      },
      "file_extension": ".py",
      "mimetype": "text/x-python",
      "name": "python",
      "nbconvert_exporter": "python",
      "pygments_lexer": "ipython3",
      "version": "3.10.1"
    },
    "colab": {
      "provenance": [],
      "gpuType": "T4",
      "include_colab_link": true
    },
    "accelerator": "GPU",
    "gpuClass": "standard"
  },
  "nbformat": 4,
  "nbformat_minor": 5
}